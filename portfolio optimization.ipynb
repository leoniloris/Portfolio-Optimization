{
 "cells": [
  {
   "cell_type": "markdown",
   "metadata": {},
   "source": [
    "# Models"
   ]
  },
  {
   "cell_type": "markdown",
   "metadata": {},
   "source": [
    "* In the following, we'll compare a simple Markowitz Portfolio Optimization (Modern Portfolio Theory) to its Black-Litterman respective using views of a \"well calibrated\" portifolio manager."
   ]
  },
  {
   "cell_type": "code",
   "execution_count": 4,
   "metadata": {},
   "outputs": [
    {
     "name": "stdout",
     "output_type": "stream",
     "text": [
      "The autoreload extension is already loaded. To reload it, use:\n",
      "  %reload_ext autoreload\n"
     ]
    }
   ],
   "source": [
    "import pytz\n",
    "import scipy\n",
    "import numpy as np\n",
    "import pandas as pd\n",
    "import MetaTrader5 as mt5\n",
    "import scipy.stats as stat\n",
    "import matplotlib.pyplot as plt\n",
    "\n",
    "from src import dataset, optimizer\n",
    "from pathlib import Path\n",
    "from datetime import datetime, timedelta\n",
    "\n",
    "tz = pytz.timezone('Brazil/East')\n",
    "\n",
    "%load_ext autoreload\n",
    "%autoreload 2"
   ]
  },
  {
   "cell_type": "markdown",
   "metadata": {},
   "source": [
    "# Load data"
   ]
  },
  {
   "cell_type": "code",
   "execution_count": 5,
   "metadata": {},
   "outputs": [],
   "source": [
    "def get_rates(symbols, *, from_datetime, to_datetime, timeframe=mt5.MT5_TIMEFRAME_D1):\n",
    "    mt5.MT5Initialize()\n",
    "    mt5.MT5WaitForTerminal()\n",
    "    full_list_rates = []\n",
    "    for symbol in symbols:\n",
    "        rates_for_symbol = pd.DataFrame(\n",
    "            list(mt5.MT5CopyRatesRange(symbol, timeframe, from_datetime, to_datetime)), \n",
    "            columns=[\"time\",\"open\",\"low\",\"high\",\"close\",\"tick_volume\",\"spread\",\"real_volume\"])\n",
    "        rates_for_symbol[\"symbol\"] = symbol\n",
    "        full_list_rates.append(rates_for_symbol)\n",
    "    mt5.MT5Shutdown()\n",
    "    return pd.concat(full_list_rates).set_index('time')\n"
   ]
  },
  {
   "cell_type": "code",
   "execution_count": 6,
   "metadata": {},
   "outputs": [],
   "source": [
    "assets = ['ABEV3', 'FLRY3', 'MEAL3', 'CSNA3', 'JHSF3', 'GFSA3']\n",
    "\n",
    "from_datetime = datetime(2019, 1, 1, tzinfo=tz)\n",
    "to_datetime = datetime(2019, 12, 31, tzinfo=tz) \n",
    "\n",
    "rates = get_rates(assets, \n",
    "          from_datetime=from_datetime,\n",
    "          to_datetime=to_datetime, \n",
    "          timeframe=mt5.MT5_TIMEFRAME_D1)"
   ]
  },
  {
   "cell_type": "code",
   "execution_count": 21,
   "metadata": {},
   "outputs": [],
   "source": [
    "close_dayly_prices = pd.DataFrame(\n",
    "    dict((*rates.groupby(\"symbol\").close, )))"
   ]
  },
  {
   "cell_type": "code",
   "execution_count": 22,
   "metadata": {},
   "outputs": [],
   "source": [
    "def get_returns(df):\n",
    "    return df\\\n",
    "           .diff()\\\n",
    "           .div(df.shift())"
   ]
  },
  {
   "cell_type": "markdown",
   "metadata": {},
   "source": [
    "### Average returns"
   ]
  },
  {
   "cell_type": "code",
   "execution_count": 23,
   "metadata": {},
   "outputs": [],
   "source": [
    "n_of_weekdays = len(rates.index.unique())\n",
    "\n",
    "avg_returns = get_returns(close_dayly_prices)\\\n",
    "    .mean()\\\n",
    "    .multiply(n_of_weekdays)"
   ]
  },
  {
   "cell_type": "markdown",
   "metadata": {},
   "source": [
    "### Covariance"
   ]
  },
  {
   "cell_type": "code",
   "execution_count": 24,
   "metadata": {},
   "outputs": [],
   "source": [
    "Covariance = get_returns(close_dayly_prices)\\\n",
    "    .cov()\\\n",
    "    .multiply(n_of_weekdays)"
   ]
  },
  {
   "cell_type": "markdown",
   "metadata": {},
   "source": [
    "### Optimizations parameters"
   ]
  },
  {
   "cell_type": "code",
   "execution_count": 28,
   "metadata": {},
   "outputs": [],
   "source": [
    "expected_returns = avg_returns # EXPLAIN\n",
    "expected_Covariance = Covariance # EXPLAIN\n",
    "risk_free_rate = 0.02 # EXPLAIN\n",
    "n_assets = len(rates.groupby(\"symbol\"))"
   ]
  },
  {
   "cell_type": "markdown",
   "metadata": {},
   "source": [
    "## MPT (Mean variance optimization)"
   ]
  },
  {
   "cell_type": "markdown",
   "metadata": {},
   "source": [
    "### Maximize *sharpe ratio* (Minimize the variance and maximize the average returns)"
   ]
  },
  {
   "cell_type": "code",
   "execution_count": 25,
   "metadata": {},
   "outputs": [],
   "source": [
    "negative_sharpe_ratio = lambda *args: -1.0 * optimizer.sharpe_ratio(*args)"
   ]
  },
  {
   "cell_type": "code",
   "execution_count": 29,
   "metadata": {},
   "outputs": [
    {
     "data": {
      "text/plain": [
       "{'ABEV3': 0.0,\n",
       " 'CSNA3': 0.09713309318724486,\n",
       " 'FLRY3': 0.21757831159173516,\n",
       " 'GFSA3': 0.0,\n",
       " 'JHSF3': 0.5484040769333051,\n",
       " 'MEAL3': 0.13688451828771545}"
      ]
     },
     "execution_count": 29,
     "metadata": {},
     "output_type": "execute_result"
    }
   ],
   "source": [
    "optimizer.get_weights_minimizing_metric(\n",
    "    expected_returns, \n",
    "    expected_Covariance, \n",
    "    risk_free_rate, \n",
    "    negative_sharpe_ratio,\n",
    ")"
   ]
  },
  {
   "cell_type": "markdown",
   "metadata": {},
   "source": [
    "### Minimize *volatility*"
   ]
  },
  {
   "cell_type": "code",
   "execution_count": 30,
   "metadata": {},
   "outputs": [
    {
     "data": {
      "text/plain": [
       "{'ABEV3': 0.3107621460805345,\n",
       " 'CSNA3': 0.06388743521616025,\n",
       " 'FLRY3': 0.27035606794784106,\n",
       " 'GFSA3': 0.04227431335879281,\n",
       " 'JHSF3': 0.0352738617989237,\n",
       " 'MEAL3': 0.27744617559774776}"
      ]
     },
     "execution_count": 30,
     "metadata": {},
     "output_type": "execute_result"
    }
   ],
   "source": [
    "optimizer.get_weights_minimizing_metric(\n",
    "    expected_returns, \n",
    "    expected_Covariance, \n",
    "    risk_free_rate, \n",
    "    optimizer.volatility,\n",
    ")"
   ]
  },
  {
   "cell_type": "markdown",
   "metadata": {},
   "source": [
    "# Backtesting"
   ]
  },
  {
   "cell_type": "code",
   "execution_count": null,
   "metadata": {},
   "outputs": [],
   "source": []
  },
  {
   "cell_type": "code",
   "execution_count": null,
   "metadata": {},
   "outputs": [],
   "source": []
  },
  {
   "cell_type": "code",
   "execution_count": null,
   "metadata": {},
   "outputs": [],
   "source": []
  },
  {
   "cell_type": "code",
   "execution_count": null,
   "metadata": {},
   "outputs": [],
   "source": []
  },
  {
   "cell_type": "code",
   "execution_count": null,
   "metadata": {},
   "outputs": [],
   "source": []
  },
  {
   "cell_type": "code",
   "execution_count": null,
   "metadata": {},
   "outputs": [],
   "source": []
  },
  {
   "cell_type": "code",
   "execution_count": null,
   "metadata": {},
   "outputs": [],
   "source": []
  },
  {
   "cell_type": "code",
   "execution_count": null,
   "metadata": {},
   "outputs": [],
   "source": []
  },
  {
   "cell_type": "code",
   "execution_count": null,
   "metadata": {},
   "outputs": [],
   "source": []
  },
  {
   "cell_type": "code",
   "execution_count": null,
   "metadata": {},
   "outputs": [],
   "source": []
  },
  {
   "cell_type": "code",
   "execution_count": null,
   "metadata": {},
   "outputs": [],
   "source": []
  },
  {
   "cell_type": "code",
   "execution_count": null,
   "metadata": {},
   "outputs": [],
   "source": []
  },
  {
   "cell_type": "code",
   "execution_count": null,
   "metadata": {},
   "outputs": [],
   "source": []
  },
  {
   "cell_type": "code",
   "execution_count": null,
   "metadata": {},
   "outputs": [],
   "source": []
  },
  {
   "cell_type": "code",
   "execution_count": 13,
   "metadata": {},
   "outputs": [],
   "source": [
    "from pypfopt.efficient_frontier import EfficientFrontier\n",
    "from pypfopt import risk_models\n",
    "from pypfopt import expected_returns"
   ]
  },
  {
   "cell_type": "code",
   "execution_count": 14,
   "metadata": {},
   "outputs": [],
   "source": [
    "avg_returns = expected_returns.mean_historical_return(close_dayly_prices, frequency=n_of_weekdays)\n",
    "Covariance = risk_models.sample_cov(close_dayly_prices, frequency=n_of_weekdays)"
   ]
  },
  {
   "cell_type": "code",
   "execution_count": 16,
   "metadata": {},
   "outputs": [
    {
     "data": {
      "text/plain": [
       "{'ABEV3': 0.0,\n",
       " 'CSNA3': 0.09713307980465381,\n",
       " 'FLRY3': 0.21757832563719892,\n",
       " 'GFSA3': 0.0,\n",
       " 'JHSF3': 0.5484040683693776,\n",
       " 'MEAL3': 0.1368845261887697}"
      ]
     },
     "execution_count": 16,
     "metadata": {},
     "output_type": "execute_result"
    }
   ],
   "source": [
    "ef = EfficientFrontier(avg_returns, Covariance)\n",
    "weights = ef.max_sharpe()\n",
    "weights"
   ]
  },
  {
   "cell_type": "code",
   "execution_count": null,
   "metadata": {},
   "outputs": [],
   "source": []
  }
 ],
 "metadata": {
  "kernelspec": {
   "display_name": "Python 3",
   "language": "python",
   "name": "python3"
  },
  "toc": {
   "base_numbering": 1,
   "nav_menu": {},
   "number_sections": true,
   "sideBar": true,
   "skip_h1_title": false,
   "title_cell": "Table of Contents",
   "title_sidebar": "Contents",
   "toc_cell": false,
   "toc_position": {},
   "toc_section_display": true,
   "toc_window_display": true
  },
  "varInspector": {
   "cols": {
    "lenName": 16,
    "lenType": 16,
    "lenVar": 40
   },
   "kernels_config": {
    "python": {
     "delete_cmd_postfix": "",
     "delete_cmd_prefix": "del ",
     "library": "var_list.py",
     "varRefreshCmd": "print(var_dic_list())"
    },
    "r": {
     "delete_cmd_postfix": ") ",
     "delete_cmd_prefix": "rm(",
     "library": "var_list.r",
     "varRefreshCmd": "cat(var_dic_list()) "
    }
   },
   "types_to_exclude": [
    "module",
    "function",
    "builtin_function_or_method",
    "instance",
    "_Feature"
   ],
   "window_display": false
  }
 },
 "nbformat": 4,
 "nbformat_minor": 2
}
