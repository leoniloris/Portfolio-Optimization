{
 "cells": [
  {
   "cell_type": "markdown",
   "metadata": {},
   "source": [
    "# Models"
   ]
  },
  {
   "cell_type": "markdown",
   "metadata": {},
   "source": [
    "* In the following, we'll compare a simple Markowitz Portfolio Optimization (Modern Portfolio Theory) to its Black-Litterman respective using views of a \"well calibrated\" portifolio manager."
   ]
  },
  {
   "cell_type": "code",
   "execution_count": 160,
   "metadata": {},
   "outputs": [],
   "source": [
    "import pytz\n",
    "import scipy\n",
    "import numpy as np\n",
    "import pandas as pd\n",
    "import MetaTrader5 as mt5\n",
    "import scipy.stats as stat\n",
    "import matplotlib.pyplot as plt\n",
    "\n",
    "from datetime import datetime, timedelta\n",
    "\n",
    "tz = pytz.timezone('Brazil/East')"
   ]
  },
  {
   "cell_type": "markdown",
   "metadata": {},
   "source": [
    "# Load data"
   ]
  },
  {
   "cell_type": "code",
   "execution_count": 119,
   "metadata": {},
   "outputs": [],
   "source": [
    "def get_rates(symbols, *, from_datetime, to_datetime, timeframe=mt5.MT5_TIMEFRAME_D1):\n",
    "    MT5Initialize()\n",
    "    MT5WaitForTerminal()\n",
    "    full_list_rates = []\n",
    "    for symbol in symbols:\n",
    "        rates_for_symbol = pd.DataFrame(\n",
    "            list(MT5CopyRatesRange(symbol, timeframe, from_datetime, to_datetime)), \n",
    "            columns=[\"time\",\"open\",\"low\",\"high\",\"close\",\"tick_volume\",\"spread\",\"real_volume\"])\n",
    "        rates_for_symbol[\"symbol\"] = symbol\n",
    "        full_list_rates.append(rates_for_symbol)\n",
    "    MT5Shutdown()\n",
    "    return pd.concat(full_list_rates).set_index('time')\n"
   ]
  },
  {
   "cell_type": "code",
   "execution_count": 146,
   "metadata": {},
   "outputs": [],
   "source": [
    "risky_assets = ['ABEV3', 'FLRY3', 'MEAL3', 'CSNA3', 'JHSF3', 'GFSA3']\n",
    "\n",
    "from_datetime = datetime(2019, 1, 1, tzinfo=tz)\n",
    "to_datetime = datetime(2019, 12, 31, tzinfo=tz) \n",
    "\n",
    "rates = get_rates(risky_assets, \n",
    "          from_datetime=from_datetime,\n",
    "          to_datetime=to_datetime, \n",
    "          timeframe=mt5.MT5_TIMEFRAME_D1)"
   ]
  },
  {
   "cell_type": "markdown",
   "metadata": {},
   "source": [
    "## MPT (Mean variance optimization)"
   ]
  },
  {
   "cell_type": "code",
   "execution_count": 147,
   "metadata": {},
   "outputs": [],
   "source": [
    "close_dayly_prices = pd.DataFrame(\n",
    "    dict((*rates.groupby(\"symbol\").close, )))"
   ]
  },
  {
   "cell_type": "code",
   "execution_count": 169,
   "metadata": {},
   "outputs": [],
   "source": [
    "def get_returns(df):\n",
    "    return df\\\n",
    "           .diff()\\\n",
    "           .div(df.shift())"
   ]
  },
  {
   "cell_type": "markdown",
   "metadata": {},
   "source": [
    "### Average returns"
   ]
  },
  {
   "cell_type": "code",
   "execution_count": 175,
   "metadata": {},
   "outputs": [],
   "source": [
    "n_of_weekdays = len(rates.index.unique())\n",
    "\n",
    "avg_returns = get_returns(close_dayly_prices)\\\n",
    "    .mean()\\\n",
    "    .multiply(n_of_weekdays)"
   ]
  },
  {
   "cell_type": "markdown",
   "metadata": {},
   "source": [
    "### Covariance"
   ]
  },
  {
   "cell_type": "code",
   "execution_count": 179,
   "metadata": {},
   "outputs": [],
   "source": [
    "Covariance = get_returns(close_dayly_prices)\\\n",
    "    .cov()\\\n",
    "    .multiply(n_of_weekdays)"
   ]
  },
  {
   "cell_type": "code",
   "execution_count": null,
   "metadata": {},
   "outputs": [],
   "source": []
  },
  {
   "cell_type": "code",
   "execution_count": null,
   "metadata": {},
   "outputs": [],
   "source": [
    "ef = EfficientFrontier(avg_returns, Covariance)\n",
    "weights = ef.max_sharpe()\n",
    "cleaned_weights"
   ]
  },
  {
   "cell_type": "markdown",
   "metadata": {},
   "source": [
    "### Maximize *sharpe ratio* (Minimize the variance and maximize the average returns)"
   ]
  },
  {
   "cell_type": "code",
   "execution_count": 202,
   "metadata": {},
   "outputs": [],
   "source": [
    "def sharpe_ratio(portifolio_weights, \n",
    "                 expected_returns, \n",
    "                 returns_Covariance, \n",
    "                 risk_free_rate):\n",
    "    portifolio_returns = portifolio_weights.dot(expected_returns)\n",
    "    returns_variance =\\\n",
    "        np.sqrt(np.dot(portifolio_weights, \n",
    "                       np.dot(returns_Covariance, portifolio_weights.T)))\n",
    "    return (portifolio_returns - risk_free_rate) / returns_variance"
   ]
  },
  {
   "cell_type": "code",
   "execution_count": 203,
   "metadata": {},
   "outputs": [],
   "source": [
    "import scipy.optimize as sco"
   ]
  },
  {
   "cell_type": "code",
   "execution_count": 212,
   "metadata": {},
   "outputs": [
    {
     "data": {
      "text/plain": [
       "{'ABEV3': 0.0,\n",
       " 'FLRY3': 0.09713308615594374,\n",
       " 'MEAL3': 0.21757833382375769,\n",
       " 'CSNA3': 1.3778899381887767e-15,\n",
       " 'JHSF3': 0.5484040679886282,\n",
       " 'GFSA3': 0.1368845120316694}"
      ]
     },
     "execution_count": 212,
     "metadata": {},
     "output_type": "execute_result"
    }
   ],
   "source": [
    "expected_returns = avg_returns # EXPLAIN\n",
    "expected_Covariance = Covariance # EXPLAIN\n",
    "risk_free_rate = 0.02 # EXPLAIN\n",
    "n_assets = len(rates.groupby(\"symbol\"))\n",
    "\n",
    "initial_weigts_guess = np.array([1 / n_assets] * n_assets) # Equal weigts for each asset\n",
    "\n",
    "cost_function_args = (expected_returns, expected_Covariance, risk_free_rate)\n",
    "result = sco.minimize(\n",
    "    lambda *args: -1.0 * sharpe_ratio(*args), # EXPLAIN\n",
    "    x0 = initial_weigts_guess,\n",
    "    args = cost_function_args,\n",
    "    method = \"SLSQP\",\n",
    "    bounds = tuple((0, 1) for _ in range(n_assets)),\n",
    "    constraints = [{\"type\": \"eq\", \"fun\": lambda x: np.sum(x) - 1}],\n",
    ")\n",
    "\n",
    "weigts = dict(zip(risky_assets, result['x']))\n",
    "weigts"
   ]
  },
  {
   "cell_type": "code",
   "execution_count": 207,
   "metadata": {},
   "outputs": [
    {
     "data": {
      "text/plain": [
       "     fun: -3.47148952354617\n",
       "     jac: array([ 0.18110996, -0.06883866, -0.07280686,  3.0641799 , -0.07092705,\n",
       "       -0.07172546])\n",
       " message: 'Optimization terminated successfully.'\n",
       "    nfev: 77\n",
       "     nit: 9\n",
       "    njev: 9\n",
       "  status: 0\n",
       " success: True\n",
       "       x: array([0.00000000e+00, 9.71330862e-02, 2.17578334e-01, 1.37788994e-15,\n",
       "       5.48404068e-01, 1.36884512e-01])"
      ]
     },
     "execution_count": 207,
     "metadata": {},
     "output_type": "execute_result"
    }
   ],
   "source": [
    "result"
   ]
  },
  {
   "cell_type": "code",
   "execution_count": 190,
   "metadata": {},
   "outputs": [],
   "source": [
    "def _make_valid_bounds(test_bounds=(0, 1)):\n",
    "    \"\"\"\n",
    "    Private method: process input bounds into a form acceptable by scipy.optimize,\n",
    "    and check the validity of said bounds.\n",
    "    :param test_bounds: minimum and maximum weight of each asset OR single min/max pair\n",
    "                          if all identical, defaults to (0, 1).\n",
    "    :type test_bounds: tuple OR list/tuple of tuples.\n",
    "    :raises ValueError: if ``test_bounds`` is not a tuple of length two OR a collection\n",
    "                        of pairs.\n",
    "    :raises ValueError: if the lower bound is too high\n",
    "    :return: a tuple of bounds, e.g ((0, 1), (0, 1), (0, 1) ...)\n",
    "    :rtype: tuple of tuples\n",
    "    \"\"\"\n",
    "    # If it is a collection with the right length, assume they are all bounds.\n",
    "    if len(test_bounds) == n_assets and not isinstance(\n",
    "        test_bounds[0], (float, int)\n",
    "    ):\n",
    "        bounds = test_bounds\n",
    "    else:\n",
    "        if len(test_bounds) != 2 or not isinstance(test_bounds, tuple):\n",
    "            raise ValueError(\n",
    "                \"test_bounds must be a tuple of (lower bound, upper bound) \"\n",
    "                \"OR collection of bounds for each asset\"\n",
    "            )\n",
    "        bounds = (test_bounds,) * n_assets\n",
    "\n",
    "    # Ensure lower bound is not too high\n",
    "    if sum((0 if b[0] is None else b[0]) for b in bounds) > 1:\n",
    "        raise ValueError(\n",
    "            \"Lower bound is too high. Impossible to construct valid portfolio\"\n",
    "        )\n",
    "\n",
    "    return bounds"
   ]
  },
  {
   "cell_type": "code",
   "execution_count": null,
   "metadata": {},
   "outputs": [],
   "source": []
  },
  {
   "cell_type": "code",
   "execution_count": null,
   "metadata": {},
   "outputs": [],
   "source": []
  },
  {
   "cell_type": "code",
   "execution_count": null,
   "metadata": {},
   "outputs": [],
   "source": []
  },
  {
   "cell_type": "code",
   "execution_count": null,
   "metadata": {},
   "outputs": [],
   "source": []
  },
  {
   "cell_type": "code",
   "execution_count": null,
   "metadata": {},
   "outputs": [],
   "source": []
  },
  {
   "cell_type": "code",
   "execution_count": null,
   "metadata": {},
   "outputs": [],
   "source": []
  },
  {
   "cell_type": "code",
   "execution_count": null,
   "metadata": {},
   "outputs": [],
   "source": []
  },
  {
   "cell_type": "code",
   "execution_count": null,
   "metadata": {},
   "outputs": [],
   "source": []
  },
  {
   "cell_type": "code",
   "execution_count": null,
   "metadata": {},
   "outputs": [],
   "source": []
  },
  {
   "cell_type": "code",
   "execution_count": null,
   "metadata": {},
   "outputs": [],
   "source": [
    "from pypfopt.efficient_frontier import EfficientFrontier\n",
    "from pypfopt import risk_models\n",
    "from pypfopt import expected_returns"
   ]
  },
  {
   "cell_type": "code",
   "execution_count": 173,
   "metadata": {},
   "outputs": [
    {
     "data": {
      "text/plain": [
       "ABEV3    0.201305\n",
       "CSNA3    0.614496\n",
       "FLRY3    0.508252\n",
       "GFSA3   -0.413223\n",
       "JHSF3    1.449121\n",
       "MEAL3    0.330418\n",
       "dtype: float64"
      ]
     },
     "execution_count": 173,
     "metadata": {},
     "output_type": "execute_result"
    }
   ],
   "source": [
    "avg_returns = expected_returns.mean_historical_return(close_dayly_prices)\n",
    "Covariance = risk_models.sample_cov(close_dayly_prices)\n",
    "avg_returns"
   ]
  },
  {
   "cell_type": "markdown",
   "metadata": {},
   "source": [
    "avg_returns"
   ]
  },
  {
   "cell_type": "code",
   "execution_count": 124,
   "metadata": {},
   "outputs": [
    {
     "data": {
      "text/plain": [
       "{'ABEV3': 0.0,\n",
       " 'CSNA3': 0.09713547284320327,\n",
       " 'FLRY3': 0.21772011760060692,\n",
       " 'GFSA3': 2.792650565020393e-15,\n",
       " 'JHSF3': 0.5480970011507317,\n",
       " 'MEAL3': 0.13704740840545682}"
      ]
     },
     "execution_count": 124,
     "metadata": {},
     "output_type": "execute_result"
    }
   ],
   "source": [
    "ef = EfficientFrontier(avg_returns, Covariance)\n",
    "weights = ef.max_sharpe()\n",
    "weights"
   ]
  },
  {
   "cell_type": "code",
   "execution_count": null,
   "metadata": {},
   "outputs": [],
   "source": []
  }
 ],
 "metadata": {
  "kernelspec": {
   "display_name": "Python 3",
   "language": "python",
   "name": "python3"
  },
  "language_info": {
   "codemirror_mode": {
    "name": "ipython",
    "version": 3
   },
   "file_extension": ".py",
   "mimetype": "text/x-python",
   "name": "python",
   "nbconvert_exporter": "python",
   "pygments_lexer": "ipython3",
   "version": "3.6.8"
  },
  "toc": {
   "base_numbering": 1,
   "nav_menu": {},
   "number_sections": true,
   "sideBar": true,
   "skip_h1_title": false,
   "title_cell": "Table of Contents",
   "title_sidebar": "Contents",
   "toc_cell": false,
   "toc_position": {},
   "toc_section_display": true,
   "toc_window_display": true
  },
  "varInspector": {
   "cols": {
    "lenName": 16,
    "lenType": 16,
    "lenVar": 40
   },
   "kernels_config": {
    "python": {
     "delete_cmd_postfix": "",
     "delete_cmd_prefix": "del ",
     "library": "var_list.py",
     "varRefreshCmd": "print(var_dic_list())"
    },
    "r": {
     "delete_cmd_postfix": ") ",
     "delete_cmd_prefix": "rm(",
     "library": "var_list.r",
     "varRefreshCmd": "cat(var_dic_list()) "
    }
   },
   "types_to_exclude": [
    "module",
    "function",
    "builtin_function_or_method",
    "instance",
    "_Feature"
   ],
   "window_display": false
  }
 },
 "nbformat": 4,
 "nbformat_minor": 2
}
